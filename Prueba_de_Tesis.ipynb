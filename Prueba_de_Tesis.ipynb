{
  "nbformat": 4,
  "nbformat_minor": 0,
  "metadata": {
    "colab": {
      "provenance": [],
      "gpuType": "T4"
    },
    "kernelspec": {
      "name": "python3",
      "display_name": "Python 3"
    },
    "language_info": {
      "name": "python"
    }
  },
  "cells": [
    {
      "cell_type": "markdown",
      "source": [
        "Importar las librerias\n",
        "\n"
      ],
      "metadata": {
        "id": "0wBJQ0Ah_pGo"
      }
    },
    {
      "cell_type": "code",
      "execution_count": null,
      "metadata": {
        "id": "oVj1UDLm-TkT"
      },
      "outputs": [],
      "source": [
        "import numpy as np\n",
        "import pandas as pd\n",
        "import tensorflow as tf\n",
        "from tensorflow import keras\n",
        "from tensorflow.keras.layers import Input, LSTM, Dense, Concatenate\n",
        "from tensorflow.keras.models import Model\n",
        "from sklearn.metrics import accuracy_score, roc_auc_score, confusion_matrix"
      ]
    },
    {
      "cell_type": "markdown",
      "source": [
        "Cargar los archivos para la entrada de datos"
      ],
      "metadata": {
        "id": "qf8ZEkFi_wHX"
      }
    },
    {
      "cell_type": "code",
      "source": [
        "workers_df = pd.read_csv('/content/sample_data/trabajadores_si.csv', sep=';')\n",
        "tasks_df = pd.read_csv('/content/sample_data/requerimientos_si.csv', sep=';')\n",
        "reparticion_df = pd.read_csv('/content/sample_data/reparticion_si.csv', sep=';')"
      ],
      "metadata": {
        "id": "67dH7383AJD6"
      },
      "execution_count": null,
      "outputs": []
    },
    {
      "cell_type": "markdown",
      "source": [
        "Extraer los datos de los trabajadores y los requisitos"
      ],
      "metadata": {
        "id": "Ns32FsSGAQft"
      }
    },
    {
      "cell_type": "code",
      "source": [
        "worker_skills = workers_df.iloc[:, 1:24].values\n",
        "task_requirements = tasks_df.iloc[:, 1:24].values\n",
        "reparticion_df = reparticion_df.set_index('Trabajador_ID')\n",
        "reparticion = reparticion_df.values"
      ],
      "metadata": {
        "id": "gQ8zdUbcA136"
      },
      "execution_count": null,
      "outputs": []
    },
    {
      "cell_type": "markdown",
      "source": [
        "Reshape de los datos"
      ],
      "metadata": {
        "id": "MWbCW95oDp2B"
      }
    },
    {
      "cell_type": "code",
      "source": [
        "worker_skills = worker_skills.reshape((worker_skills.shape[0], worker_skills.shape[1], 1))\n",
        "task_requirements = task_requirements.reshape((task_requirements.shape[0], task_requirements.shape[1], 1))\n",
        "reparticion = reparticion.reshape((reparticion.shape[0], reparticion.shape[1], 1))"
      ],
      "metadata": {
        "id": "1RLABlU4D6x8"
      },
      "execution_count": null,
      "outputs": []
    },
    {
      "cell_type": "markdown",
      "source": [
        "Crear modelo"
      ],
      "metadata": {
        "id": "kiq8l_HrBEmv"
      }
    },
    {
      "cell_type": "code",
      "source": [
        "input_worker = Input(shape=(worker_skills.shape[1], 1), name='input_worker')\n",
        "input_task = Input(shape=(task_requirements.shape[1], 1), name='input_task')\n",
        "\n",
        "lstm_layer_worker = LSTM(64, return_sequences=False)(input_worker)\n",
        "lstm_layer_task = LSTM(64, return_sequences=False)(input_task)"
      ],
      "metadata": {
        "id": "jjQC2GENBtNK"
      },
      "execution_count": null,
      "outputs": []
    },
    {
      "cell_type": "markdown",
      "source": [
        "Concatenar las salidas"
      ],
      "metadata": {
        "id": "ZKJ1fxoCyCYQ"
      }
    },
    {
      "cell_type": "code",
      "source": [
        "concatenated = Concatenate()([lstm_layer_worker, lstm_layer_task])\n",
        "\n",
        "output_layer = Dense(reparticion.shape[1], activation='sigmoid', name='output')(concatenated)\n",
        "\n",
        "model = Model(inputs=[input_worker, input_task], outputs=output_layer)"
      ],
      "metadata": {
        "id": "wBf3yMA6yKTj"
      },
      "execution_count": null,
      "outputs": []
    },
    {
      "cell_type": "markdown",
      "source": [
        "Compilar el modelo"
      ],
      "metadata": {
        "id": "2CwLWDHxBueV"
      }
    },
    {
      "cell_type": "code",
      "source": [
        "model.compile(optimizer='adam', loss='binary_crossentropy', metrics=['accuracy'])"
      ],
      "metadata": {
        "id": "_3rAWe6YBvf3"
      },
      "execution_count": null,
      "outputs": []
    },
    {
      "cell_type": "markdown",
      "source": [
        "Pruebas de dimensiones"
      ],
      "metadata": {
        "id": "dSNTf0eY7vM9"
      }
    },
    {
      "cell_type": "code",
      "source": [
        "print(\"Dimensiones de worker_skills:\", worker_skills.shape)\n",
        "print(\"Dimensiones de task_requirements:\", task_requirements.shape)\n",
        "print(\"Dimensiones de reparticion después del reshape:\", reparticion.shape)\n",
        "print(reparticion[0, 0])  # Imprime el valor de reparticion en la posición (0, 0)\n",
        "print(worker_skills[0, 0])  # Imprime el valor de worker_skills en la posición (0, 0)\n",
        "print(task_requirements[0, 0])  # Imprime el valor de task_requirements en la posición (0, 0)"
      ],
      "metadata": {
        "id": "Ige5XkDA1f_b"
      },
      "execution_count": null,
      "outputs": []
    },
    {
      "cell_type": "markdown",
      "source": [
        "Entrenar el modelo con las reparticiones"
      ],
      "metadata": {
        "id": "QKfO0XXBD9R1"
      }
    },
    {
      "cell_type": "code",
      "source": [
        "model.fit([worker_skills, task_requirements], reparticion, epochs=10, batch_size=32)"
      ],
      "metadata": {
        "id": "IZPgNYloEAUm"
      },
      "execution_count": null,
      "outputs": []
    },
    {
      "cell_type": "markdown",
      "source": [
        "Ahora se tomara las medidas del modelo"
      ],
      "metadata": {
        "id": "8cWBQBPMG76J"
      }
    },
    {
      "cell_type": "markdown",
      "source": [
        "Cargar datos de prueba"
      ],
      "metadata": {
        "id": "Sb-bV0nzkVyB"
      }
    },
    {
      "cell_type": "code",
      "source": [
        "# Cargar datos de prueba adicionales\n",
        "workers_test_additional_df = pd.read_csv('/content/sample_data/trabajadores_si.csv', sep=';')\n",
        "tasks_test_additional_df = pd.read_csv('/content/sample_data/requerimientos_si_t.csv', sep=';')\n",
        "reparticion_test_additional_df = pd.read_csv('/content/sample_data/reparticion_si_t.csv', sep=';')\n",
        "\n",
        "# Extraer las columnas de habilidades de trabajadores y requisitos de tareas de prueba adicional\n",
        "worker_skills_test_additional = workers_test_additional_df.iloc[:, 1:24].values\n",
        "task_requirements_test_additional = tasks_test_additional_df.iloc[:, 1:24].values\n",
        "reparticion_test_additional = reparticion_test_additional_df['Reparticion'].values.reshape((reparticion_test_additional_df.shape[0], 1))\n",
        "\n",
        "# Reshape de los datos de prueba adicional\n",
        "worker_skills_test_additional = worker_skills_test_additional.reshape((worker_skills_test_additional.shape[0], worker_skills_test_additional.shape[1], 1))\n",
        "task_requirements_test_additional = task_requirements_test_additional.reshape((task_requirements_test_additional.shape[0], task_requirements_test_additional.shape[1], 1))\n",
        "reparticion_test_additional = reparticion_test_additional_df['Reparticion'].values.reshape((reparticion_test_additional_df.shape[0], 1))"
      ],
      "metadata": {
        "id": "cZCR6D-WnpGc"
      },
      "execution_count": null,
      "outputs": []
    },
    {
      "cell_type": "markdown",
      "source": [
        "Predicciones y Ajustando a Binario"
      ],
      "metadata": {
        "id": "jVAGrJZTV_NZ"
      }
    },
    {
      "cell_type": "code",
      "source": [
        "# Obtener las predicciones del modelo en el conjunto de prueba\n",
        "predictions = model.predict([worker_skills_test_additional, task_requirements_test_additional])\n",
        "\n",
        "# Ajustar las predicciones al formato binario (0 o 1)\n",
        "binary_predictions = (predictions > 0.5).astype(int)"
      ],
      "metadata": {
        "id": "MkZ9BJTdWCbB"
      },
      "execution_count": null,
      "outputs": []
    },
    {
      "cell_type": "markdown",
      "source": [
        "Acurracy, ROC y Matriz de Confusion"
      ],
      "metadata": {
        "id": "qVkQep9cWGhT"
      }
    },
    {
      "cell_type": "code",
      "source": [
        "# Calcular la precisión\n",
        "accuracy = accuracy_score(reparticion_test, binary_predictions)\n",
        "print(f'Accuracy: {accuracy}')\n",
        "\n",
        "# Calcular el área bajo la curva ROC\n",
        "roc_auc = roc_auc_score(reparticion_test, predictions)\n",
        "print(f'AUC-ROC: {roc_auc}')\n",
        "\n",
        "# Calcular la matriz de confusión\n",
        "conf_matrix = confusion_matrix(reparticion_test, binary_predictions)\n",
        "print('Confusion Matrix:')\n",
        "print(conf_matrix)"
      ],
      "metadata": {
        "id": "dIIzGqh9WJit"
      },
      "execution_count": null,
      "outputs": []
    },
    {
      "cell_type": "markdown",
      "source": [
        "Ahora se mostrara que trabajadores son los aptos para el proyecto usando el modelo dado"
      ],
      "metadata": {
        "id": "X-7asfiAFpUo"
      }
    },
    {
      "cell_type": "code",
      "source": [
        "# Cargar datos de trabajadores y requerimientos para predecir\n",
        "workers_to_predict_df = pd.read_csv('workers_to_predict.csv', sep=';')\n",
        "requirements_to_predict_df = pd.read_csv('requirements_to_predict.csv', sep=';')\n",
        "\n",
        "# Extraer las columnas de habilidades de trabajadores y requisitos de tareas para predecir\n",
        "worker_skills_to_predict = workers_to_predict_df.iloc[:, 1:24].values\n",
        "requirements_to_predict = requirements_to_predict_df.iloc[:, 1:24].values\n",
        "\n",
        "# Reshape de los datos para que coincidan con las dimensiones del modelo\n",
        "worker_skills_to_predict = worker_skills_to_predict.reshape((worker_skills_to_predict.shape[0], worker_skills_to_predict.shape[1], 1))\n",
        "requirements_to_predict = requirements_to_predict.reshape((requirements_to_predict.shape[0], requirements_to_predict.shape[1], 1))\n",
        "\n",
        "# Realizar predicciones\n",
        "predictions = model.predict([worker_skills_to_predict, requirements_to_predict])\n",
        "\n",
        "# Filtrar trabajadores que superan un umbral de confianza (ejemplo: 0.5)\n",
        "threshold = 0.5\n",
        "selected_workers = workers_to_predict_df[predictions > threshold]\n",
        "\n",
        "# Mostrar los trabajadores seleccionados\n",
        "print(\"Trabajadores seleccionados:\")\n",
        "print(selected_workers)"
      ],
      "metadata": {
        "id": "NuCmaaEpF2YC"
      },
      "execution_count": null,
      "outputs": []
    }
  ]
}